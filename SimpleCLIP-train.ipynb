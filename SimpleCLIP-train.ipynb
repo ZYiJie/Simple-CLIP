{
 "cells": [
  {
   "cell_type": "code",
   "execution_count": 1,
   "id": "5dc651cf",
   "metadata": {},
   "outputs": [
    {
     "name": "stdout",
     "output_type": "stream",
     "text": [
      "transformers.__version__: 4.10.0\n"
     ]
    }
   ],
   "source": [
    "#!/usr/bin/env python\n",
    "# coding: utf-8\n",
    "import os\n",
    "import pandas as pd\n",
    "import numpy as np\n",
    "import random\n",
    "import wandb\n",
    "from pprint import pprint\n",
    "\n",
    "from tqdm.notebook import tqdm\n",
    "import torch\n",
    "import torch.nn as nn\n",
    "import torch.nn.functional as F\n",
    "from torch.optim import Adam, SGD, AdamW\n",
    "from torch.utils.data import DataLoader, Dataset\n",
    "import torchvision.transforms as transforms\n",
    "from PIL import Image\n",
    "import torchvision.models as visual_models\n",
    "from pytorch_pretrained_vit import ViT\n",
    "\n",
    "import transformers\n",
    "print(f\"transformers.__version__: {transformers.__version__}\")\n",
    "from transformers import AutoTokenizer, BertModel, AutoConfig\n",
    "from transformers import get_linear_schedule_with_warmup, get_cosine_schedule_with_warmup\n",
    "transformers.logging.set_verbosity_error()"
   ]
  },
  {
   "cell_type": "markdown",
   "id": "ceaeb9f2",
   "metadata": {},
   "source": [
    "### 参数"
   ]
  },
  {
   "cell_type": "code",
   "execution_count": 2,
   "id": "818dd4a6",
   "metadata": {},
   "outputs": [],
   "source": [
    "class CFG:\n",
    "    train_file = './data/train.tsv'    \n",
    "    valid_file = './data/dev.tsv'   \n",
    "    img_key = 'filepath'\n",
    "    caption_key = 'title'\n",
    "    max_text_len=34  \n",
    "    image_size=224\n",
    "    text_ptm='/home/yjw/ZYJ_WorkSpace/PTMs/chinese-roberta-wwm-ext/'\n",
    "    img_ptm='Resnet50'  # ['ViT', 'Resnet50', 'VGG16']\n",
    "    vit_name='B_16_imagenet1k'\n",
    "    output_dir = './checkpoints/roberta-resnet-dim256-saved/'\n",
    "    # 训练参数\n",
    "    dim = 256\n",
    "    device='cuda:0'\n",
    "    epochs=50\n",
    "    learning_rate = 1e-4\n",
    "    batch_size=256\n",
    "    eval_epoch = 2\n",
    "    apex = True\n",
    "    seed=42 \n",
    "    # scheduler参数\n",
    "    scheduler='cosine'                   # ['linear', 'cosine'] # lr scheduler 类型\n",
    "    last_epoch=-1                        # 从第 last_epoch +1 个epoch开始训练\n",
    "    batch_scheduler=True                 # 是否每个step结束后更新 lr scheduler\n",
    "    weight_decay=0.01\n",
    "    num_warmup_steps = 0\n",
    "    num_cycles=0.5                    # 如果使用 cosine lr scheduler， 该参数决定学习率曲线的形状，0.5代表半个cosine曲线\n",
    "    \n",
    "    # log参数\n",
    "    log_step = 5\n",
    "    wandb = True\n",
    "    key_metrics = 'image_to_text_R@10'\n",
    "    \n"
   ]
  },
  {
   "cell_type": "code",
   "execution_count": 3,
   "id": "059aa976",
   "metadata": {},
   "outputs": [],
   "source": [
    "#=======设置全局seed保证结果可复现====\n",
    "def seed_everything(seed=42):\n",
    "    random.seed(seed)\n",
    "    os.environ['PYTHONHASHSEED'] = str(seed)\n",
    "    np.random.seed(seed)\n",
    "    torch.manual_seed(seed)\n",
    "    torch.cuda.manual_seed(seed)\n",
    "    torch.backends.cudnn.deterministic = True"
   ]
  },
  {
   "cell_type": "markdown",
   "id": "b0d6b681",
   "metadata": {},
   "source": [
    "### 数据预处理"
   ]
  },
  {
   "cell_type": "code",
   "execution_count": 4,
   "id": "7eb2cc0e",
   "metadata": {},
   "outputs": [],
   "source": [
    "class TrainDataset(Dataset):\n",
    "    def __init__(self, input_file):\n",
    "        tokenizer = AutoTokenizer.from_pretrained(CFG.text_ptm)\n",
    "        data_df = pd.read_csv(input_file, sep='\\t')\n",
    "        img_paths = data_df[CFG.img_key].values\n",
    "        texts = data_df[CFG.caption_key].values\n",
    "        img_size = CFG.image_size\n",
    "\n",
    "        transformation = transforms.Compose([\n",
    "            transforms.Resize((img_size, img_size)),\n",
    "            transforms.ToTensor(),\n",
    "        ])\n",
    "        \n",
    "        self.inputs = []\n",
    "        assert len(texts) == len(img_paths)\n",
    "        print(f'load data from {input_file} len={len(texts)}')\n",
    "        for text, img_path in tqdm(zip(texts, img_paths)):\n",
    "            text_tensor = tokenizer(text, \n",
    "                                    max_length=CFG.max_text_len, \n",
    "                                    truncation=True, \n",
    "                                    return_tensors='pt', \n",
    "                                    padding=\"max_length\",)\n",
    "            for k,v in text_tensor.items():\n",
    "                text_tensor[k] = v.squeeze()\n",
    "            img_tensor = transformation(Image.open(img_path))\n",
    "            self.inputs.append({'text':text_tensor, 'img':img_tensor})\n",
    "\n",
    "    def __len__(self):\n",
    "        return len(self.inputs)\n",
    "\n",
    "    def __getitem__(self, item):\n",
    "        return self.inputs[item]"
   ]
  },
  {
   "cell_type": "markdown",
   "id": "cf5dad1d",
   "metadata": {},
   "source": [
    "### 模型定义"
   ]
  },
  {
   "cell_type": "markdown",
   "id": "80ebbb7a",
   "metadata": {},
   "source": [
    "#### TextEncoder"
   ]
  },
  {
   "cell_type": "code",
   "execution_count": 5,
   "id": "6fc2e19e",
   "metadata": {},
   "outputs": [],
   "source": [
    "class TextEncoder(nn.Module):\n",
    "    def __init__(self, ptm_name, device, freeze=False):\n",
    "        super().__init__()\n",
    "        self.model = BertModel.from_pretrained(ptm_name)\n",
    "        self.model.to(device)\n",
    "        self.feat_dim = AutoConfig.from_pretrained(ptm_name).hidden_size\n",
    "\n",
    "        self.freeze = freeze\n",
    "        if freeze:\n",
    "            for name ,param in self.model.named_parameters():\n",
    "                param.requires_grad = False\n",
    "        \n",
    "    def forward(self, inputs):\n",
    "        if self.freeze:\n",
    "            self.model.eval()\n",
    "        last_hidden_state = self.model(**inputs).last_hidden_state # [batch_size, seq_len, hidden_size]\n",
    "        feature = torch.mean(last_hidden_state, axis=1) # [batch_size, hidden_size]\n",
    "\n",
    "        feature = F.normalize(feature, dim=-1)\n",
    "        return feature"
   ]
  },
  {
   "cell_type": "markdown",
   "id": "3691c87d",
   "metadata": {},
   "source": [
    "#### ImageEncoder"
   ]
  },
  {
   "cell_type": "code",
   "execution_count": 6,
   "id": "152e69cd",
   "metadata": {},
   "outputs": [],
   "source": [
    "class ImageEncoder(nn.Module):\n",
    "    def __init__(self, ptm_name, device, vit_model_name=None):\n",
    "        super().__init__()\n",
    "        assert ptm_name in ['ViT', 'Resnet50', 'VGG16']\n",
    "        if ptm_name == 'Resnet50':\n",
    "            self.model = visual_models.resnet50(pretrained=True)\n",
    "        elif ptm_name == 'ViT':\n",
    "            self.model = ViT(vit_model_name, pretrained=True)\n",
    "        else:\n",
    "            self.model = visual_models.vgg16(pretrained=True)\n",
    "        self.model.to(device)\n",
    "        self.feat_dim = 1000\n",
    "\n",
    "    def forward(self, inputs):\n",
    "        feature = self.model(inputs) # [batch_size, 1000]\n",
    "        feature = F.normalize(feature, dim=-1)\n",
    "        return feature\n"
   ]
  },
  {
   "cell_type": "markdown",
   "id": "dae19841",
   "metadata": {},
   "source": [
    "#### SimpleCLIP"
   ]
  },
  {
   "cell_type": "code",
   "execution_count": 7,
   "id": "77902090",
   "metadata": {},
   "outputs": [],
   "source": [
    "class SimpleCLIP(nn.Module):\n",
    "    def __init__(self, dim, text_ptm_name, img_ptm_name, device, freeze=False, vit_model_name=None):\n",
    "        super().__init__()\n",
    "        self.device = device\n",
    "        self.textencoder = TextEncoder(text_ptm_name, device, freeze=freeze)\n",
    "        self.imgencoder = ImageEncoder(img_ptm_name, device, vit_model_name)\n",
    "\n",
    "        self.text_projection = nn.Parameter(torch.empty(self.textencoder.feat_dim, dim)).to(device)\n",
    "        self.img_projection = nn.Parameter(torch.empty(self.imgencoder.feat_dim, dim)).to(device)\n",
    "        self.logit_scale = nn.Parameter(torch.ones([])).to(device)\n",
    "        self.init_parameters()\n",
    "    \n",
    "    def init_parameters(self):\n",
    "        nn.init.constant_(self.logit_scale, np.log(1 / 0.07))\n",
    "        nn.init.normal_(self.text_projection, std=0.02)\n",
    "        nn.init.normal_(self.img_projection, std=0.02)\n",
    "\n",
    "    def loss(self, text_feat, img_feat, logit_scale):\n",
    "        labels = torch.arange(text_feat.shape[0], device=self.device, dtype=torch.long)\n",
    "\n",
    "        logits_per_image = logit_scale * img_feat @ text_feat.T   # [batch_size, batch_size]\n",
    "        logits_per_text = logit_scale * text_feat @ img_feat.T   # [batch_size, batch_size]\n",
    "        \n",
    "        total_loss = (\n",
    "            F.cross_entropy(logits_per_image, labels) +\n",
    "            F.cross_entropy(logits_per_text, labels)\n",
    "            ) / 2\n",
    "        return total_loss\n",
    "\n",
    "    def forward(self, text_inputs, img_inputs, outputLoss=False):\n",
    "        text_feat = self.textencoder(text_inputs) @ self.text_projection # [batch_size, dim]\n",
    "        img_feat = self.imgencoder(img_inputs) @ self.img_projection # [batch_size, dim]\n",
    "        logit_scale = self.logit_scale.exp()\n",
    "        if outputLoss:\n",
    "            loss = self.loss(text_feat, img_feat, logit_scale)\n",
    "            return loss, text_feat, img_feat, logit_scale\n",
    "        else:\n",
    "            return text_feat, img_feat, logit_scale\n"
   ]
  },
  {
   "cell_type": "markdown",
   "id": "90f29a62",
   "metadata": {},
   "source": [
    "### 主程序"
   ]
  },
  {
   "cell_type": "markdown",
   "id": "2d7bd90f",
   "metadata": {},
   "source": [
    "#### evaluate"
   ]
  },
  {
   "cell_type": "code",
   "execution_count": 8,
   "id": "efc8cd7b",
   "metadata": {},
   "outputs": [],
   "source": [
    "def get_metrics(image_features, text_features, logit_scale):\n",
    "    metrics = {}\n",
    "    logits_per_image = (logit_scale * image_features @ text_features.t()).detach().cpu()\n",
    "    logits_per_text = logits_per_image.t().detach().cpu()\n",
    "\n",
    "    logits = {\"image_to_text\": logits_per_image, \"text_to_image\": logits_per_text}\n",
    "    ground_truth = torch.arange(len(text_features)).view(-1, 1)\n",
    "\n",
    "    for name, logit in logits.items():\n",
    "        ranking = torch.argsort(logit, descending=True)\n",
    "        preds = torch.where(ranking == ground_truth)[1]\n",
    "        preds = preds.detach().cpu().numpy()\n",
    "        metrics[f\"{name}_mean_rank\"] = preds.mean() + 1\n",
    "        metrics[f\"{name}_median_rank\"] = np.floor(np.median(preds)) + 1\n",
    "        for k in [1, 5, 10]:\n",
    "            metrics[f\"{name}_R@{k}\"] = np.mean(preds < k)\n",
    "\n",
    "    return metrics\n",
    "\n",
    "def evaluate(model, valid_dataloader, device):\n",
    "    model.eval()\n",
    "    all_text_feat = []\n",
    "    all_img_feat = []\n",
    "    tk0 = tqdm(enumerate(valid_dataloader),total=len(valid_dataloader))\n",
    "    total_loss = 0\n",
    "    for step, batch in tk0:\n",
    "        batch['img'] = batch['img'].to(device)\n",
    "        for k,v in batch['text'].items():\n",
    "            batch['text'][k] = v.to(device)\n",
    "        with torch.no_grad():\n",
    "            with torch.cuda.amp.autocast(enabled=CFG.apex):\n",
    "                loss, text_feat, img_feat, logit_scale = model(batch['text'], \n",
    "                                                                batch['img'], \n",
    "                                                                outputLoss=True)\n",
    "        total_loss += loss.item()\n",
    "        all_text_feat.append(text_feat)\n",
    "        all_img_feat.append(img_feat)\n",
    "        \n",
    "    metrics = get_metrics(image_features=torch.cat(all_img_feat),\n",
    "                          text_features=torch.cat(all_text_feat),\n",
    "                          logit_scale=logit_scale)\n",
    "    metrics['eval_loss'] = total_loss / len(valid_dataloader)\n",
    "    return metrics\n"
   ]
  },
  {
   "cell_type": "markdown",
   "id": "689769b5",
   "metadata": {},
   "source": [
    "#### train loop"
   ]
  },
  {
   "cell_type": "code",
   "execution_count": 9,
   "id": "9c159c13",
   "metadata": {},
   "outputs": [],
   "source": [
    "def train_eval(model, train_dataloader, valid_dataloader, save_path):\n",
    "    assert CFG.device.startswith('cuda') or CFG.device == 'cpu', ValueError(\"Invalid device.\")\n",
    "    device = torch.device(CFG.device)\n",
    "    best_score = 0\n",
    "    total_step = 0\n",
    "    model.to(device)\n",
    "    scaler = torch.cuda.amp.GradScaler(enabled=CFG.apex)\n",
    "    if not len(train_dataloader):\n",
    "        raise EOFError(\"Empty train_dataloader.\")\n",
    "\n",
    "    # 过滤掉冻结的权重\n",
    "    param_optimizer = [(n, p) for n, p in model.named_parameters() if p.requires_grad]\n",
    "\n",
    "    no_decay = [\"bias\", \"LayerNorm.bias\", \"LayerNorm.weight\"]\n",
    "    # 设置权重decay\n",
    "    optimizer_grouped_parameters = [\n",
    "        {\"params\": [p for n, p in param_optimizer if not any(nd in n for nd in no_decay)], \"weight_decay\": CFG.weight_decay},\n",
    "        {\"params\": [p for n, p in param_optimizer if any(nd in n for nd in no_decay)], \"weight_decay\": 0.0}]\n",
    "    optimizer = AdamW(optimizer_grouped_parameters, lr=CFG.learning_rate, weight_decay=CFG.weight_decay)\n",
    "    \n",
    "    num_train_steps = int(len(train_dataloader) * CFG.epochs)\n",
    "    if CFG.scheduler=='cosine':\n",
    "        scheduler = get_cosine_schedule_with_warmup(\n",
    "                    optimizer, \n",
    "                    num_warmup_steps=CFG.num_warmup_steps, \n",
    "                    num_training_steps=num_train_steps, \n",
    "                    num_cycles=CFG.num_cycles, \n",
    "#                     last_epoch = ((CFG.last_epoch+1)/CFG.epochs)*num_train_steps\n",
    "                )\n",
    "    else:\n",
    "        scheduler = get_linear_schedule_with_warmup(\n",
    "                optimizer, num_warmup_steps=CFG.num_warmup_steps, num_training_steps=num_train_steps\n",
    "            )\n",
    "    \n",
    "    for cur_epc in range(int(CFG.epochs)):\n",
    "        \n",
    "        if cur_epc % CFG.eval_epoch == 0:\n",
    "            metrics = evaluate(model, valid_dataloader, device)\n",
    "            print(f\"eval metrics = \")\n",
    "            pprint(metrics)\n",
    "            if CFG.wandb:\n",
    "                wandb.log(metrics, step=total_step)\n",
    "            if cur_epc > 0 and metrics[CFG.key_metrics] >= best_score:\n",
    "                best_score = metrics[CFG.key_metrics]\n",
    "                # model_save_path = os.path.join(save_path,f'epoch{cur_epc}.pt') # 保留所有checkpoint\n",
    "                model_save_path = os.path.join(save_path,f'best_checkpoint.pt') # 保留最优checkpoint\n",
    "                torch.save(model.state_dict(), model_save_path)\n",
    "                print(f'save at {model_save_path}')\n",
    "        \n",
    "        training_loss = 0\n",
    "        print(\"Epoch: {}\".format(cur_epc))\n",
    "        model.train()\n",
    "        tk0 = tqdm(enumerate(train_dataloader),total=len(train_dataloader))\n",
    "        for step, batch in tk0:\n",
    "            total_step += 1\n",
    "            batch['img'] = batch['img'].to(device)\n",
    "            for k,v in batch['text'].items():\n",
    "                batch['text'][k] = v.to(device)\n",
    "            with torch.cuda.amp.autocast(enabled=CFG.apex):\n",
    "                loss, _, _, _ = model(batch['text'], batch['img'], outputLoss=True)\n",
    "            scaler.scale(loss).backward()\n",
    "            scaler.step(optimizer)\n",
    "            scaler.update()\n",
    "            optimizer.zero_grad()\n",
    "            if CFG.batch_scheduler:\n",
    "                scheduler.step()\n",
    "            training_loss += loss.item()\n",
    "            tk0.set_postfix(Epoch=cur_epc, Loss=training_loss/(step+1))\n",
    "            if CFG.wandb and (step + 1) % CFG.log_step == 0:\n",
    "                wandb.log({'train_loss':loss, 'lr':optimizer.param_groups[0][\"lr\"], 'epoch': cur_epc},\n",
    "                          step=total_step)\n",
    "        \n",
    "    torch.cuda.empty_cache()          "
   ]
  },
  {
   "cell_type": "markdown",
   "id": "5c001ad1",
   "metadata": {},
   "source": [
    "#### 训练过程"
   ]
  },
  {
   "cell_type": "code",
   "execution_count": 10,
   "id": "23ae8325",
   "metadata": {},
   "outputs": [
    {
     "name": "stdout",
     "output_type": "stream",
     "text": [
      "load data from ./data/train.tsv len=40000\n"
     ]
    },
    {
     "data": {
      "application/vnd.jupyter.widget-view+json": {
       "model_id": "ba3457127d0d4eac9a1c31c3e121b715",
       "version_major": 2,
       "version_minor": 0
      },
      "text/plain": [
       "0it [00:00, ?it/s]"
      ]
     },
     "metadata": {},
     "output_type": "display_data"
    },
    {
     "name": "stdout",
     "output_type": "stream",
     "text": [
      "load data from ./data/dev.tsv len=5974\n"
     ]
    },
    {
     "data": {
      "application/vnd.jupyter.widget-view+json": {
       "model_id": "2bcd23b0824b47ddaf2e2dd76b75f409",
       "version_major": 2,
       "version_minor": 0
      },
      "text/plain": [
       "0it [00:00, ?it/s]"
      ]
     },
     "metadata": {},
     "output_type": "display_data"
    },
    {
     "name": "stderr",
     "output_type": "stream",
     "text": [
      "Failed to detect the name of this notebook, you can set it manually with the WANDB_NOTEBOOK_NAME environment variable to enable code saving.\n",
      "\u001b[34m\u001b[1mwandb\u001b[0m: Currently logged in as: \u001b[33mzyijie\u001b[0m (use `wandb login --relogin` to force relogin)\n"
     ]
    },
    {
     "name": "stdout",
     "output_type": "stream",
     "text": [
      "huggingface/tokenizers: The current process just got forked, after parallelism has already been used. Disabling parallelism to avoid deadlocks...\n",
      "To disable this warning, you can either:\n",
      "\t- Avoid using `tokenizers` before the fork if possible\n",
      "\t- Explicitly set the environment variable TOKENIZERS_PARALLELISM=(true | false)\n",
      "huggingface/tokenizers: The current process just got forked, after parallelism has already been used. Disabling parallelism to avoid deadlocks...\n",
      "To disable this warning, you can either:\n",
      "\t- Avoid using `tokenizers` before the fork if possible\n",
      "\t- Explicitly set the environment variable TOKENIZERS_PARALLELISM=(true | false)\n"
     ]
    },
    {
     "data": {
      "text/html": [
       "wandb version 0.12.18 is available!  To upgrade, please run:\n",
       " $ pip install wandb --upgrade"
      ],
      "text/plain": [
       "<IPython.core.display.HTML object>"
      ]
     },
     "metadata": {},
     "output_type": "display_data"
    },
    {
     "data": {
      "text/html": [
       "Tracking run with wandb version 0.12.13"
      ],
      "text/plain": [
       "<IPython.core.display.HTML object>"
      ]
     },
     "metadata": {},
     "output_type": "display_data"
    },
    {
     "data": {
      "text/html": [
       "Run data is saved locally in <code>/home/yjw/ZYJ_WorkSpace/chinese-CLIP/wandb/run-20220616_015809-3rcb2a6a</code>"
      ],
      "text/plain": [
       "<IPython.core.display.HTML object>"
      ]
     },
     "metadata": {},
     "output_type": "display_data"
    },
    {
     "data": {
      "text/html": [
       "Syncing run <strong><a href=\"https://wandb.ai/zyijie/SimpleCLIP/runs/3rcb2a6a\" target=\"_blank\">roberta-base-Resnet50-batch256-dim256</a></strong> to <a href=\"https://wandb.ai/zyijie/SimpleCLIP\" target=\"_blank\">Weights & Biases</a> (<a href=\"https://wandb.me/run\" target=\"_blank\">docs</a>)<br/>"
      ],
      "text/plain": [
       "<IPython.core.display.HTML object>"
      ]
     },
     "metadata": {},
     "output_type": "display_data"
    },
    {
     "data": {
      "application/vnd.jupyter.widget-view+json": {
       "model_id": "59a1509c233144c0a0d9098266361e80",
       "version_major": 2,
       "version_minor": 0
      },
      "text/plain": [
       "  0%|          | 0/24 [00:00<?, ?it/s]"
      ]
     },
     "metadata": {},
     "output_type": "display_data"
    },
    {
     "name": "stdout",
     "output_type": "stream",
     "text": [
      "eval metrics = \n",
      "{'eval_loss': 0.02147236668194334,\n",
      " 'image_to_text_R@1': 0.00033478406427854036,\n",
      " 'image_to_text_R@10': 0.002176096417810512,\n",
      " 'image_to_text_R@5': 0.001004352192835621,\n",
      " 'image_to_text_mean_rank': 2825.9907934382322,\n",
      " 'image_to_text_median_rank': 2796.0,\n",
      " 'text_to_image_R@1': 0.0,\n",
      " 'text_to_image_R@10': 0.0008369601606963508,\n",
      " 'text_to_image_R@5': 0.0005021760964178105,\n",
      " 'text_to_image_mean_rank': 2869.8068295949115,\n",
      " 'text_to_image_median_rank': 2808.0}\n",
      "Epoch: 0\n"
     ]
    },
    {
     "data": {
      "application/vnd.jupyter.widget-view+json": {
       "model_id": "dab138674cbd442cb594450e022db942",
       "version_major": 2,
       "version_minor": 0
      },
      "text/plain": [
       "  0%|          | 0/157 [00:00<?, ?it/s]"
      ]
     },
     "metadata": {},
     "output_type": "display_data"
    },
    {
     "name": "stdout",
     "output_type": "stream",
     "text": [
      "Epoch: 1\n"
     ]
    },
    {
     "data": {
      "application/vnd.jupyter.widget-view+json": {
       "model_id": "8e60262a110849bc818d5617f4fd5c50",
       "version_major": 2,
       "version_minor": 0
      },
      "text/plain": [
       "  0%|          | 0/157 [00:00<?, ?it/s]"
      ]
     },
     "metadata": {},
     "output_type": "display_data"
    },
    {
     "data": {
      "application/vnd.jupyter.widget-view+json": {
       "model_id": "fbbf1728ed3b4cdbbb6469c9f286c6ad",
       "version_major": 2,
       "version_minor": 0
      },
      "text/plain": [
       "  0%|          | 0/24 [00:00<?, ?it/s]"
      ]
     },
     "metadata": {},
     "output_type": "display_data"
    },
    {
     "name": "stdout",
     "output_type": "stream",
     "text": [
      "eval metrics = \n",
      "{'eval_loss': 0.014946842527327439,\n",
      " 'image_to_text_R@1': 0.017073987278205558,\n",
      " 'image_to_text_R@10': 0.10026782725142283,\n",
      " 'image_to_text_R@5': 0.06210244392366923,\n",
      " 'image_to_text_mean_rank': 571.0929025778373,\n",
      " 'image_to_text_median_rank': 172.0,\n",
      " 'text_to_image_R@1': 0.01774355540676264,\n",
      " 'text_to_image_R@10': 0.10077000334784064,\n",
      " 'text_to_image_R@5': 0.05825242718446602,\n",
      " 'text_to_image_mean_rank': 564.6444593237362,\n",
      " 'text_to_image_median_rank': 172.0}\n",
      "save at ./roberta-resnet-dim256-saved/best_checkpoint.pt\n",
      "Epoch: 2\n"
     ]
    },
    {
     "data": {
      "application/vnd.jupyter.widget-view+json": {
       "model_id": "ef3deea1a9e34805b553c48ec0f716c1",
       "version_major": 2,
       "version_minor": 0
      },
      "text/plain": [
       "  0%|          | 0/157 [00:00<?, ?it/s]"
      ]
     },
     "metadata": {},
     "output_type": "display_data"
    },
    {
     "name": "stdout",
     "output_type": "stream",
     "text": [
      "Epoch: 3\n"
     ]
    },
    {
     "data": {
      "application/vnd.jupyter.widget-view+json": {
       "model_id": "7a61b634510a49d5ab5c16616e5124c5",
       "version_major": 2,
       "version_minor": 0
      },
      "text/plain": [
       "  0%|          | 0/157 [00:00<?, ?it/s]"
      ]
     },
     "metadata": {},
     "output_type": "display_data"
    },
    {
     "data": {
      "application/vnd.jupyter.widget-view+json": {
       "model_id": "c659cbde78b0494792a3a9b833369e8c",
       "version_major": 2,
       "version_minor": 0
      },
      "text/plain": [
       "  0%|          | 0/24 [00:00<?, ?it/s]"
      ]
     },
     "metadata": {},
     "output_type": "display_data"
    },
    {
     "name": "stdout",
     "output_type": "stream",
     "text": [
      "eval metrics = \n",
      "{'eval_loss': 0.015896394111526508,\n",
      " 'image_to_text_R@1': 0.011550050217609641,\n",
      " 'image_to_text_R@10': 0.08938734516237028,\n",
      " 'image_to_text_R@5': 0.052393706059591566,\n",
      " 'image_to_text_mean_rank': 681.2870773351189,\n",
      " 'image_to_text_median_rank': 205.0,\n",
      " 'text_to_image_R@1': 0.017241379310344827,\n",
      " 'text_to_image_R@10': 0.09792433880147305,\n",
      " 'text_to_image_R@5': 0.05691329092735186,\n",
      " 'text_to_image_mean_rank': 673.4070974221627,\n",
      " 'text_to_image_median_rank': 201.0}\n",
      "Epoch: 4\n"
     ]
    },
    {
     "data": {
      "application/vnd.jupyter.widget-view+json": {
       "model_id": "0efd642eaf0a49c784c8487f8aee3edc",
       "version_major": 2,
       "version_minor": 0
      },
      "text/plain": [
       "  0%|          | 0/157 [00:00<?, ?it/s]"
      ]
     },
     "metadata": {},
     "output_type": "display_data"
    },
    {
     "name": "stdout",
     "output_type": "stream",
     "text": [
      "Epoch: 5\n"
     ]
    },
    {
     "data": {
      "application/vnd.jupyter.widget-view+json": {
       "model_id": "544fb3c599394d3daeb2b3b0a3ae4350",
       "version_major": 2,
       "version_minor": 0
      },
      "text/plain": [
       "  0%|          | 0/157 [00:00<?, ?it/s]"
      ]
     },
     "metadata": {},
     "output_type": "display_data"
    },
    {
     "data": {
      "application/vnd.jupyter.widget-view+json": {
       "model_id": "71647f97d116434bba437064812eb23a",
       "version_major": 2,
       "version_minor": 0
      },
      "text/plain": [
       "  0%|          | 0/24 [00:00<?, ?it/s]"
      ]
     },
     "metadata": {},
     "output_type": "display_data"
    },
    {
     "name": "stdout",
     "output_type": "stream",
     "text": [
      "eval metrics = \n",
      "{'eval_loss': 0.015597575382950405,\n",
      " 'image_to_text_R@1': 0.014060930699698694,\n",
      " 'image_to_text_R@10': 0.1049548041513224,\n",
      " 'image_to_text_R@5': 0.06160026782725142,\n",
      " 'image_to_text_mean_rank': 668.876129896217,\n",
      " 'image_to_text_median_rank': 178.0,\n",
      " 'text_to_image_R@1': 0.01774355540676264,\n",
      " 'text_to_image_R@10': 0.10780046869768999,\n",
      " 'text_to_image_R@5': 0.06327418814864412,\n",
      " 'text_to_image_mean_rank': 655.3362905925678,\n",
      " 'text_to_image_median_rank': 176.0}\n",
      "save at ./roberta-resnet-dim256-saved/best_checkpoint.pt\n",
      "Epoch: 6\n"
     ]
    },
    {
     "data": {
      "application/vnd.jupyter.widget-view+json": {
       "model_id": "087389bfda264744899c3912d39bdf6a",
       "version_major": 2,
       "version_minor": 0
      },
      "text/plain": [
       "  0%|          | 0/157 [00:00<?, ?it/s]"
      ]
     },
     "metadata": {},
     "output_type": "display_data"
    },
    {
     "name": "stdout",
     "output_type": "stream",
     "text": [
      "Epoch: 7\n"
     ]
    },
    {
     "data": {
      "application/vnd.jupyter.widget-view+json": {
       "model_id": "96ec5037c98d4e9d9d5b9d9856a6cade",
       "version_major": 2,
       "version_minor": 0
      },
      "text/plain": [
       "  0%|          | 0/157 [00:00<?, ?it/s]"
      ]
     },
     "metadata": {},
     "output_type": "display_data"
    },
    {
     "data": {
      "application/vnd.jupyter.widget-view+json": {
       "model_id": "4df8eb029b1146a0931c03bf66218fe9",
       "version_major": 2,
       "version_minor": 0
      },
      "text/plain": [
       "  0%|          | 0/24 [00:00<?, ?it/s]"
      ]
     },
     "metadata": {},
     "output_type": "display_data"
    },
    {
     "name": "stdout",
     "output_type": "stream",
     "text": [
      "eval metrics = \n",
      "{'eval_loss': 0.015881430202474196,\n",
      " 'image_to_text_R@1': 0.015902243053230666,\n",
      " 'image_to_text_R@10': 0.1083026447941078,\n",
      " 'image_to_text_R@5': 0.06160026782725142,\n",
      " 'image_to_text_mean_rank': 723.6787746903248,\n",
      " 'image_to_text_median_rank': 192.0,\n",
      " 'text_to_image_R@1': 0.017910947438901908,\n",
      " 'text_to_image_R@10': 0.11533311014395715,\n",
      " 'text_to_image_R@5': 0.07080682959491129,\n",
      " 'text_to_image_mean_rank': 680.3029795781721,\n",
      " 'text_to_image_median_rank': 185.0}\n",
      "save at ./roberta-resnet-dim256-saved/best_checkpoint.pt\n",
      "Epoch: 8\n"
     ]
    },
    {
     "data": {
      "application/vnd.jupyter.widget-view+json": {
       "model_id": "70be9d8cf27e48cb9305ffb27c410d6e",
       "version_major": 2,
       "version_minor": 0
      },
      "text/plain": [
       "  0%|          | 0/157 [00:00<?, ?it/s]"
      ]
     },
     "metadata": {},
     "output_type": "display_data"
    },
    {
     "name": "stdout",
     "output_type": "stream",
     "text": [
      "Epoch: 9\n"
     ]
    },
    {
     "data": {
      "application/vnd.jupyter.widget-view+json": {
       "model_id": "fdac3af2378f466ead2b0b3008ba817c",
       "version_major": 2,
       "version_minor": 0
      },
      "text/plain": [
       "  0%|          | 0/157 [00:00<?, ?it/s]"
      ]
     },
     "metadata": {},
     "output_type": "display_data"
    },
    {
     "data": {
      "application/vnd.jupyter.widget-view+json": {
       "model_id": "d58c6add6ab7402ba2bd4c765991dd21",
       "version_major": 2,
       "version_minor": 0
      },
      "text/plain": [
       "  0%|          | 0/24 [00:00<?, ?it/s]"
      ]
     },
     "metadata": {},
     "output_type": "display_data"
    },
    {
     "name": "stdout",
     "output_type": "stream",
     "text": [
      "eval metrics = \n",
      "{'eval_loss': 0.015782609775972862,\n",
      " 'image_to_text_R@1': 0.01774355540676264,\n",
      " 'image_to_text_R@10': 0.11064613324405759,\n",
      " 'image_to_text_R@5': 0.06545028456645463,\n",
      " 'image_to_text_mean_rank': 710.2870773351189,\n",
      " 'image_to_text_median_rank': 186.0,\n",
      " 'text_to_image_R@1': 0.022765316370940744,\n",
      " 'text_to_image_R@10': 0.12269835955808503,\n",
      " 'text_to_image_R@5': 0.07432206226983595,\n",
      " 'text_to_image_mean_rank': 708.2022095748242,\n",
      " 'text_to_image_median_rank': 177.0}\n",
      "save at ./roberta-resnet-dim256-saved/best_checkpoint.pt\n",
      "Epoch: 10\n"
     ]
    },
    {
     "data": {
      "application/vnd.jupyter.widget-view+json": {
       "model_id": "1e5d197f17114764b0fef95581869a7f",
       "version_major": 2,
       "version_minor": 0
      },
      "text/plain": [
       "  0%|          | 0/157 [00:00<?, ?it/s]"
      ]
     },
     "metadata": {},
     "output_type": "display_data"
    },
    {
     "name": "stdout",
     "output_type": "stream",
     "text": [
      "Epoch: 11\n"
     ]
    },
    {
     "data": {
      "application/vnd.jupyter.widget-view+json": {
       "model_id": "e4aec77f31de4e3c94b25b0ca707343d",
       "version_major": 2,
       "version_minor": 0
      },
      "text/plain": [
       "  0%|          | 0/157 [00:00<?, ?it/s]"
      ]
     },
     "metadata": {},
     "output_type": "display_data"
    },
    {
     "data": {
      "application/vnd.jupyter.widget-view+json": {
       "model_id": "71ff899d3c6c47ca933b7aad826d9075",
       "version_major": 2,
       "version_minor": 0
      },
      "text/plain": [
       "  0%|          | 0/24 [00:00<?, ?it/s]"
      ]
     },
     "metadata": {},
     "output_type": "display_data"
    },
    {
     "name": "stdout",
     "output_type": "stream",
     "text": [
      "eval metrics = \n",
      "{'eval_loss': 0.015704733862852056,\n",
      " 'image_to_text_R@1': 0.01690659524606629,\n",
      " 'image_to_text_R@10': 0.10696350853699364,\n",
      " 'image_to_text_R@5': 0.06176765985939069,\n",
      " 'image_to_text_mean_rank': 696.5878808168732,\n",
      " 'image_to_text_median_rank': 180.0,\n",
      " 'text_to_image_R@1': 0.024606628724472716,\n",
      " 'text_to_image_R@10': 0.12470706394375627,\n",
      " 'text_to_image_R@5': 0.07917643120187479,\n",
      " 'text_to_image_mean_rank': 715.9834281888183,\n",
      " 'text_to_image_median_rank': 179.0}\n",
      "Epoch: 12\n"
     ]
    },
    {
     "data": {
      "application/vnd.jupyter.widget-view+json": {
       "model_id": "4a290c4c4e1b49fc8e8e9e2f49d78eb9",
       "version_major": 2,
       "version_minor": 0
      },
      "text/plain": [
       "  0%|          | 0/157 [00:00<?, ?it/s]"
      ]
     },
     "metadata": {},
     "output_type": "display_data"
    },
    {
     "name": "stdout",
     "output_type": "stream",
     "text": [
      "Epoch: 13\n"
     ]
    },
    {
     "data": {
      "application/vnd.jupyter.widget-view+json": {
       "model_id": "2e08c4924e324445ac715d4755a936be",
       "version_major": 2,
       "version_minor": 0
      },
      "text/plain": [
       "  0%|          | 0/157 [00:00<?, ?it/s]"
      ]
     },
     "metadata": {},
     "output_type": "display_data"
    },
    {
     "data": {
      "application/vnd.jupyter.widget-view+json": {
       "model_id": "b3e178ef796e448d813a32f14facbc8c",
       "version_major": 2,
       "version_minor": 0
      },
      "text/plain": [
       "  0%|          | 0/24 [00:00<?, ?it/s]"
      ]
     },
     "metadata": {},
     "output_type": "display_data"
    },
    {
     "name": "stdout",
     "output_type": "stream",
     "text": [
      "eval metrics = \n",
      "{'eval_loss': 0.015825222595594823,\n",
      " 'image_to_text_R@1': 0.017910947438901908,\n",
      " 'image_to_text_R@10': 0.11332440575828591,\n",
      " 'image_to_text_R@5': 0.07097422162705055,\n",
      " 'image_to_text_mean_rank': 729.1404419149649,\n",
      " 'image_to_text_median_rank': 188.0,\n",
      " 'text_to_image_R@1': 0.024439236692333444,\n",
      " 'text_to_image_R@10': 0.1297288249079344,\n",
      " 'text_to_image_R@5': 0.08302644794107801,\n",
      " 'text_to_image_mean_rank': 731.9859390693003,\n",
      " 'text_to_image_median_rank': 184.0}\n",
      "save at ./roberta-resnet-dim256-saved/best_checkpoint.pt\n",
      "Epoch: 14\n"
     ]
    },
    {
     "data": {
      "application/vnd.jupyter.widget-view+json": {
       "model_id": "e07b5c97ba344fa8b7e43ad2540264ee",
       "version_major": 2,
       "version_minor": 0
      },
      "text/plain": [
       "  0%|          | 0/157 [00:00<?, ?it/s]"
      ]
     },
     "metadata": {},
     "output_type": "display_data"
    },
    {
     "name": "stdout",
     "output_type": "stream",
     "text": [
      "Epoch: 15\n"
     ]
    },
    {
     "data": {
      "application/vnd.jupyter.widget-view+json": {
       "model_id": "82d34dc1f94a43bf99c06a149fe93320",
       "version_major": 2,
       "version_minor": 0
      },
      "text/plain": [
       "  0%|          | 0/157 [00:00<?, ?it/s]"
      ]
     },
     "metadata": {},
     "output_type": "display_data"
    },
    {
     "data": {
      "application/vnd.jupyter.widget-view+json": {
       "model_id": "b1845b2b9a2b45b99c37b2c0d48fdee7",
       "version_major": 2,
       "version_minor": 0
      },
      "text/plain": [
       "  0%|          | 0/24 [00:00<?, ?it/s]"
      ]
     },
     "metadata": {},
     "output_type": "display_data"
    },
    {
     "name": "stdout",
     "output_type": "stream",
     "text": [
      "eval metrics = \n",
      "{'eval_loss': 0.01560579271366199,\n",
      " 'image_to_text_R@1': 0.022263140274522933,\n",
      " 'image_to_text_R@10': 0.1206896551724138,\n",
      " 'image_to_text_R@5': 0.07733511884834282,\n",
      " 'image_to_text_mean_rank': 699.926682289923,\n",
      " 'image_to_text_median_rank': 176.0,\n",
      " 'text_to_image_R@1': 0.024104452628054905,\n",
      " 'text_to_image_R@10': 0.13458319383997322,\n",
      " 'text_to_image_R@5': 0.08520254435888852,\n",
      " 'text_to_image_mean_rank': 702.6456310679612,\n",
      " 'text_to_image_median_rank': 176.0}\n",
      "save at ./roberta-resnet-dim256-saved/best_checkpoint.pt\n",
      "Epoch: 16\n"
     ]
    },
    {
     "data": {
      "application/vnd.jupyter.widget-view+json": {
       "model_id": "9f4d569153cb4cde9f57456e2aaddd93",
       "version_major": 2,
       "version_minor": 0
      },
      "text/plain": [
       "  0%|          | 0/157 [00:00<?, ?it/s]"
      ]
     },
     "metadata": {},
     "output_type": "display_data"
    },
    {
     "name": "stdout",
     "output_type": "stream",
     "text": [
      "Epoch: 17\n"
     ]
    },
    {
     "data": {
      "application/vnd.jupyter.widget-view+json": {
       "model_id": "5d6d9dfbff854d2c822ffcb6e96ec955",
       "version_major": 2,
       "version_minor": 0
      },
      "text/plain": [
       "  0%|          | 0/157 [00:00<?, ?it/s]"
      ]
     },
     "metadata": {},
     "output_type": "display_data"
    },
    {
     "data": {
      "application/vnd.jupyter.widget-view+json": {
       "model_id": "e8e86ddf154947f3aae17fa0390939e0",
       "version_major": 2,
       "version_minor": 0
      },
      "text/plain": [
       "  0%|          | 0/24 [00:00<?, ?it/s]"
      ]
     },
     "metadata": {},
     "output_type": "display_data"
    },
    {
     "name": "stdout",
     "output_type": "stream",
     "text": [
      "eval metrics = \n",
      "{'eval_loss': 0.015769570794266958,\n",
      " 'image_to_text_R@1': 0.022095748242383664,\n",
      " 'image_to_text_R@10': 0.12102443923669233,\n",
      " 'image_to_text_R@5': 0.07348510210913961,\n",
      " 'image_to_text_mean_rank': 735.4112822229662,\n",
      " 'image_to_text_median_rank': 184.0,\n",
      " 'text_to_image_R@1': 0.026113157013726147,\n",
      " 'text_to_image_R@10': 0.12654837629728824,\n",
      " 'text_to_image_R@5': 0.07934382323401407,\n",
      " 'text_to_image_mean_rank': 733.5570806829595,\n",
      " 'text_to_image_median_rank': 179.0}\n",
      "save at ./roberta-resnet-dim256-saved/best_checkpoint.pt\n",
      "Epoch: 18\n"
     ]
    },
    {
     "data": {
      "application/vnd.jupyter.widget-view+json": {
       "model_id": "c81bb26ddb8248dfa4b931cca873f7a9",
       "version_major": 2,
       "version_minor": 0
      },
      "text/plain": [
       "  0%|          | 0/157 [00:00<?, ?it/s]"
      ]
     },
     "metadata": {},
     "output_type": "display_data"
    },
    {
     "name": "stdout",
     "output_type": "stream",
     "text": [
      "Epoch: 19\n"
     ]
    },
    {
     "data": {
      "application/vnd.jupyter.widget-view+json": {
       "model_id": "2e8831e290104472af0eae484b04debd",
       "version_major": 2,
       "version_minor": 0
      },
      "text/plain": [
       "  0%|          | 0/157 [00:00<?, ?it/s]"
      ]
     },
     "metadata": {},
     "output_type": "display_data"
    },
    {
     "data": {
      "application/vnd.jupyter.widget-view+json": {
       "model_id": "8d1c1665cede48299a1bcb6bcdf9a45d",
       "version_major": 2,
       "version_minor": 0
      },
      "text/plain": [
       "  0%|          | 0/24 [00:00<?, ?it/s]"
      ]
     },
     "metadata": {},
     "output_type": "display_data"
    },
    {
     "name": "stdout",
     "output_type": "stream",
     "text": [
      "eval metrics = \n",
      "{'eval_loss': 0.015761700575239956,\n",
      " 'image_to_text_R@1': 0.02259792433880147,\n",
      " 'image_to_text_R@10': 0.12437227987947774,\n",
      " 'image_to_text_R@5': 0.0780046869768999,\n",
      " 'image_to_text_mean_rank': 743.0254435888852,\n",
      " 'image_to_text_median_rank': 185.0,\n",
      " 'text_to_image_R@1': 0.025443588885169066,\n",
      " 'text_to_image_R@10': 0.13056578506863073,\n",
      " 'text_to_image_R@5': 0.08302644794107801,\n",
      " 'text_to_image_mean_rank': 733.5609306996987,\n",
      " 'text_to_image_median_rank': 180.0}\n",
      "save at ./roberta-resnet-dim256-saved/best_checkpoint.pt\n",
      "Epoch: 20\n"
     ]
    },
    {
     "data": {
      "application/vnd.jupyter.widget-view+json": {
       "model_id": "38e5a529485e42548b81b80572b0bfef",
       "version_major": 2,
       "version_minor": 0
      },
      "text/plain": [
       "  0%|          | 0/157 [00:00<?, ?it/s]"
      ]
     },
     "metadata": {},
     "output_type": "display_data"
    },
    {
     "name": "stdout",
     "output_type": "stream",
     "text": [
      "Epoch: 21\n"
     ]
    },
    {
     "data": {
      "application/vnd.jupyter.widget-view+json": {
       "model_id": "9fa658fe97734ad5a025db9682e15e41",
       "version_major": 2,
       "version_minor": 0
      },
      "text/plain": [
       "  0%|          | 0/157 [00:00<?, ?it/s]"
      ]
     },
     "metadata": {},
     "output_type": "display_data"
    },
    {
     "data": {
      "application/vnd.jupyter.widget-view+json": {
       "model_id": "9b05a9f58dab43f480608b706167c5a1",
       "version_major": 2,
       "version_minor": 0
      },
      "text/plain": [
       "  0%|          | 0/24 [00:00<?, ?it/s]"
      ]
     },
     "metadata": {},
     "output_type": "display_data"
    },
    {
     "name": "stdout",
     "output_type": "stream",
     "text": [
      "eval metrics = \n",
      "{'eval_loss': 0.015798594220541418,\n",
      " 'image_to_text_R@1': 0.02058921995313023,\n",
      " 'image_to_text_R@10': 0.12169400736524942,\n",
      " 'image_to_text_R@5': 0.07666555071978574,\n",
      " 'image_to_text_mean_rank': 734.7068965517242,\n",
      " 'image_to_text_median_rank': 187.0,\n",
      " 'text_to_image_R@1': 0.02795446936725812,\n",
      " 'text_to_image_R@10': 0.1324070974221627,\n",
      " 'text_to_image_R@5': 0.08202209574824239,\n",
      " 'text_to_image_mean_rank': 739.1032808838299,\n",
      " 'text_to_image_median_rank': 185.0}\n",
      "Epoch: 22\n"
     ]
    },
    {
     "data": {
      "application/vnd.jupyter.widget-view+json": {
       "model_id": "d35f3fb8d8214620b530c60d8437f5a6",
       "version_major": 2,
       "version_minor": 0
      },
      "text/plain": [
       "  0%|          | 0/157 [00:00<?, ?it/s]"
      ]
     },
     "metadata": {},
     "output_type": "display_data"
    },
    {
     "name": "stdout",
     "output_type": "stream",
     "text": [
      "Epoch: 23\n"
     ]
    },
    {
     "data": {
      "application/vnd.jupyter.widget-view+json": {
       "model_id": "1b7ed55f1b3847249c322382323f13ca",
       "version_major": 2,
       "version_minor": 0
      },
      "text/plain": [
       "  0%|          | 0/157 [00:00<?, ?it/s]"
      ]
     },
     "metadata": {},
     "output_type": "display_data"
    },
    {
     "data": {
      "application/vnd.jupyter.widget-view+json": {
       "model_id": "9f5c2c5449d84c7aa63ef28fec4ff72a",
       "version_major": 2,
       "version_minor": 0
      },
      "text/plain": [
       "  0%|          | 0/24 [00:00<?, ?it/s]"
      ]
     },
     "metadata": {},
     "output_type": "display_data"
    },
    {
     "name": "stdout",
     "output_type": "stream",
     "text": [
      "eval metrics = \n",
      "{'eval_loss': 0.01571654590467612,\n",
      " 'image_to_text_R@1': 0.021426180113826583,\n",
      " 'image_to_text_R@10': 0.12788751255440242,\n",
      " 'image_to_text_R@5': 0.08018078339471041,\n",
      " 'image_to_text_mean_rank': 748.2741881486442,\n",
      " 'image_to_text_median_rank': 177.0,\n",
      " 'text_to_image_R@1': 0.026950117174422496,\n",
      " 'text_to_image_R@10': 0.13558754603280884,\n",
      " 'text_to_image_R@5': 0.08386340810177435,\n",
      " 'text_to_image_mean_rank': 748.1596919986608,\n",
      " 'text_to_image_median_rank': 175.0}\n",
      "save at ./roberta-resnet-dim256-saved/best_checkpoint.pt\n",
      "Epoch: 24\n"
     ]
    },
    {
     "data": {
      "application/vnd.jupyter.widget-view+json": {
       "model_id": "5cbad31b249e4bd5af2a2ddc6fabc5c0",
       "version_major": 2,
       "version_minor": 0
      },
      "text/plain": [
       "  0%|          | 0/157 [00:00<?, ?it/s]"
      ]
     },
     "metadata": {},
     "output_type": "display_data"
    },
    {
     "name": "stdout",
     "output_type": "stream",
     "text": [
      "Epoch: 25\n"
     ]
    },
    {
     "data": {
      "application/vnd.jupyter.widget-view+json": {
       "model_id": "1d4d8ae647a0423bb00cbc27b4b866c7",
       "version_major": 2,
       "version_minor": 0
      },
      "text/plain": [
       "  0%|          | 0/157 [00:00<?, ?it/s]"
      ]
     },
     "metadata": {},
     "output_type": "display_data"
    },
    {
     "data": {
      "application/vnd.jupyter.widget-view+json": {
       "model_id": "e9a5ae154c2e426eb2138e59801f6a06",
       "version_major": 2,
       "version_minor": 0
      },
      "text/plain": [
       "  0%|          | 0/24 [00:00<?, ?it/s]"
      ]
     },
     "metadata": {},
     "output_type": "display_data"
    },
    {
     "name": "stdout",
     "output_type": "stream",
     "text": [
      "eval metrics = \n",
      "{'eval_loss': 0.01561029530906429,\n",
      " 'image_to_text_R@1': 0.02259792433880147,\n",
      " 'image_to_text_R@10': 0.1290592567793773,\n",
      " 'image_to_text_R@5': 0.08151991965182458,\n",
      " 'image_to_text_mean_rank': 735.8995647807164,\n",
      " 'image_to_text_median_rank': 172.0,\n",
      " 'text_to_image_R@1': 0.029628389688650822,\n",
      " 'text_to_image_R@10': 0.14178105122196183,\n",
      " 'text_to_image_R@5': 0.09240040174087713,\n",
      " 'text_to_image_mean_rank': 738.8069969869434,\n",
      " 'text_to_image_median_rank': 171.0}\n",
      "save at ./roberta-resnet-dim256-saved/best_checkpoint.pt\n",
      "Epoch: 26\n"
     ]
    },
    {
     "data": {
      "application/vnd.jupyter.widget-view+json": {
       "model_id": "371044af1b394cf59ca117e088e81833",
       "version_major": 2,
       "version_minor": 0
      },
      "text/plain": [
       "  0%|          | 0/157 [00:00<?, ?it/s]"
      ]
     },
     "metadata": {},
     "output_type": "display_data"
    },
    {
     "name": "stdout",
     "output_type": "stream",
     "text": [
      "Epoch: 27\n"
     ]
    },
    {
     "data": {
      "application/vnd.jupyter.widget-view+json": {
       "model_id": "138656aecdd6405a9fc5d1b4715cde1c",
       "version_major": 2,
       "version_minor": 0
      },
      "text/plain": [
       "  0%|          | 0/157 [00:00<?, ?it/s]"
      ]
     },
     "metadata": {},
     "output_type": "display_data"
    },
    {
     "data": {
      "application/vnd.jupyter.widget-view+json": {
       "model_id": "b7ba09f4a92649e8945afe1217cc6fa1",
       "version_major": 2,
       "version_minor": 0
      },
      "text/plain": [
       "  0%|          | 0/24 [00:00<?, ?it/s]"
      ]
     },
     "metadata": {},
     "output_type": "display_data"
    },
    {
     "name": "stdout",
     "output_type": "stream",
     "text": [
      "eval metrics = \n",
      "{'eval_loss': 0.015606950735673308,\n",
      " 'image_to_text_R@1': 0.024104452628054905,\n",
      " 'image_to_text_R@10': 0.12855708068295948,\n",
      " 'image_to_text_R@5': 0.08369601606963509,\n",
      " 'image_to_text_mean_rank': 740.8883495145631,\n",
      " 'image_to_text_median_rank': 172.0,\n",
      " 'text_to_image_R@1': 0.03163709407432206,\n",
      " 'text_to_image_R@10': 0.1464680281218614,\n",
      " 'text_to_image_R@5': 0.09725477067291596,\n",
      " 'text_to_image_mean_rank': 744.305323066622,\n",
      " 'text_to_image_median_rank': 166.0}\n",
      "Epoch: 28\n"
     ]
    },
    {
     "data": {
      "application/vnd.jupyter.widget-view+json": {
       "model_id": "9347605a3b924be5aac3129e4b219888",
       "version_major": 2,
       "version_minor": 0
      },
      "text/plain": [
       "  0%|          | 0/157 [00:00<?, ?it/s]"
      ]
     },
     "metadata": {},
     "output_type": "display_data"
    },
    {
     "name": "stdout",
     "output_type": "stream",
     "text": [
      "Epoch: 29\n"
     ]
    },
    {
     "data": {
      "application/vnd.jupyter.widget-view+json": {
       "model_id": "6806420a76c54bc19a61edaca73b5181",
       "version_major": 2,
       "version_minor": 0
      },
      "text/plain": [
       "  0%|          | 0/157 [00:00<?, ?it/s]"
      ]
     },
     "metadata": {},
     "output_type": "display_data"
    },
    {
     "data": {
      "application/vnd.jupyter.widget-view+json": {
       "model_id": "620abd7c2ad94dd2b0856d3af70d0ad5",
       "version_major": 2,
       "version_minor": 0
      },
      "text/plain": [
       "  0%|          | 0/24 [00:00<?, ?it/s]"
      ]
     },
     "metadata": {},
     "output_type": "display_data"
    },
    {
     "name": "stdout",
     "output_type": "stream",
     "text": [
      "eval metrics = \n",
      "{'eval_loss': 0.015621474051537612,\n",
      " 'image_to_text_R@1': 0.023100100435219283,\n",
      " 'image_to_text_R@10': 0.12872447271509876,\n",
      " 'image_to_text_R@5': 0.07817207900903916,\n",
      " 'image_to_text_mean_rank': 747.4281888182122,\n",
      " 'image_to_text_median_rank': 170.0,\n",
      " 'text_to_image_R@1': 0.02979578172079009,\n",
      " 'text_to_image_R@10': 0.14278540341479745,\n",
      " 'text_to_image_R@5': 0.0937395379979913,\n",
      " 'text_to_image_mean_rank': 752.4857716772682,\n",
      " 'text_to_image_median_rank': 165.0}\n",
      "Epoch: 30\n"
     ]
    },
    {
     "data": {
      "application/vnd.jupyter.widget-view+json": {
       "model_id": "bc697a85c2e84944a106331bacac1d04",
       "version_major": 2,
       "version_minor": 0
      },
      "text/plain": [
       "  0%|          | 0/157 [00:00<?, ?it/s]"
      ]
     },
     "metadata": {},
     "output_type": "display_data"
    },
    {
     "name": "stdout",
     "output_type": "stream",
     "text": [
      "Epoch: 31\n"
     ]
    },
    {
     "data": {
      "application/vnd.jupyter.widget-view+json": {
       "model_id": "df7e7750a5364e4eaee55cdc91715c25",
       "version_major": 2,
       "version_minor": 0
      },
      "text/plain": [
       "  0%|          | 0/157 [00:00<?, ?it/s]"
      ]
     },
     "metadata": {},
     "output_type": "display_data"
    },
    {
     "data": {
      "application/vnd.jupyter.widget-view+json": {
       "model_id": "f0c12d8bf5244967bc85f28ad60e891e",
       "version_major": 2,
       "version_minor": 0
      },
      "text/plain": [
       "  0%|          | 0/24 [00:00<?, ?it/s]"
      ]
     },
     "metadata": {},
     "output_type": "display_data"
    },
    {
     "name": "stdout",
     "output_type": "stream",
     "text": [
      "eval metrics = \n",
      "{'eval_loss': 0.01563216431532055,\n",
      " 'image_to_text_R@1': 0.021593572145965852,\n",
      " 'image_to_text_R@10': 0.1329092735185805,\n",
      " 'image_to_text_R@5': 0.08369601606963509,\n",
      " 'image_to_text_mean_rank': 752.6476397723468,\n",
      " 'image_to_text_median_rank': 165.0,\n",
      " 'text_to_image_R@1': 0.02996317375292936,\n",
      " 'text_to_image_R@10': 0.14295279544693673,\n",
      " 'text_to_image_R@5': 0.09290257783729494,\n",
      " 'text_to_image_mean_rank': 754.5306327418815,\n",
      " 'text_to_image_median_rank': 169.0}\n",
      "save at ./roberta-resnet-dim256-saved/best_checkpoint.pt\n",
      "Epoch: 32\n"
     ]
    },
    {
     "data": {
      "application/vnd.jupyter.widget-view+json": {
       "model_id": "7e783eea63f24ecfbb09aa892835eae0",
       "version_major": 2,
       "version_minor": 0
      },
      "text/plain": [
       "  0%|          | 0/157 [00:00<?, ?it/s]"
      ]
     },
     "metadata": {},
     "output_type": "display_data"
    },
    {
     "name": "stdout",
     "output_type": "stream",
     "text": [
      "Epoch: 33\n"
     ]
    },
    {
     "data": {
      "application/vnd.jupyter.widget-view+json": {
       "model_id": "b70d56f56b3e4c50bf984f445e42a9fc",
       "version_major": 2,
       "version_minor": 0
      },
      "text/plain": [
       "  0%|          | 0/157 [00:00<?, ?it/s]"
      ]
     },
     "metadata": {},
     "output_type": "display_data"
    },
    {
     "data": {
      "application/vnd.jupyter.widget-view+json": {
       "model_id": "c0b321a2de62414392ccd1785e986ccd",
       "version_major": 2,
       "version_minor": 0
      },
      "text/plain": [
       "  0%|          | 0/24 [00:00<?, ?it/s]"
      ]
     },
     "metadata": {},
     "output_type": "display_data"
    },
    {
     "name": "stdout",
     "output_type": "stream",
     "text": [
      "eval metrics = \n",
      "{'eval_loss': 0.01571911476397266,\n",
      " 'image_to_text_R@1': 0.023602276531637094,\n",
      " 'image_to_text_R@10': 0.13039839303649145,\n",
      " 'image_to_text_R@5': 0.08085035152326749,\n",
      " 'image_to_text_mean_rank': 771.6956812855708,\n",
      " 'image_to_text_median_rank': 168.0,\n",
      " 'text_to_image_R@1': 0.0286240374958152,\n",
      " 'text_to_image_R@10': 0.14010713090056914,\n",
      " 'text_to_image_R@5': 0.09022430532306662,\n",
      " 'text_to_image_mean_rank': 770.8883495145631,\n",
      " 'text_to_image_median_rank': 170.0}\n",
      "Epoch: 34\n"
     ]
    },
    {
     "data": {
      "application/vnd.jupyter.widget-view+json": {
       "model_id": "0d53b409e18f491885ad25630f6998c3",
       "version_major": 2,
       "version_minor": 0
      },
      "text/plain": [
       "  0%|          | 0/157 [00:00<?, ?it/s]"
      ]
     },
     "metadata": {},
     "output_type": "display_data"
    },
    {
     "name": "stdout",
     "output_type": "stream",
     "text": [
      "Epoch: 35\n"
     ]
    },
    {
     "data": {
      "application/vnd.jupyter.widget-view+json": {
       "model_id": "083957a2bd7a4d25baca83abc9fcf092",
       "version_major": 2,
       "version_minor": 0
      },
      "text/plain": [
       "  0%|          | 0/157 [00:00<?, ?it/s]"
      ]
     },
     "metadata": {},
     "output_type": "display_data"
    },
    {
     "data": {
      "application/vnd.jupyter.widget-view+json": {
       "model_id": "52629659a39741899088d667bd483f73",
       "version_major": 2,
       "version_minor": 0
      },
      "text/plain": [
       "  0%|          | 0/24 [00:00<?, ?it/s]"
      ]
     },
     "metadata": {},
     "output_type": "display_data"
    },
    {
     "name": "stdout",
     "output_type": "stream",
     "text": [
      "eval metrics = \n",
      "{'eval_loss': 0.01574667659588158,\n",
      " 'image_to_text_R@1': 0.023267492467358555,\n",
      " 'image_to_text_R@10': 0.13006360897221292,\n",
      " 'image_to_text_R@5': 0.08352862403749582,\n",
      " 'image_to_text_mean_rank': 783.926682289923,\n",
      " 'image_to_text_median_rank': 172.0,\n",
      " 'text_to_image_R@1': 0.02879142952795447,\n",
      " 'text_to_image_R@10': 0.1386006026113157,\n",
      " 'text_to_image_R@5': 0.09022430532306662,\n",
      " 'text_to_image_mean_rank': 780.1310679611651,\n",
      " 'text_to_image_median_rank': 169.0}\n",
      "Epoch: 36\n"
     ]
    },
    {
     "data": {
      "application/vnd.jupyter.widget-view+json": {
       "model_id": "c206cd6601bd4452b6ed0520f175877f",
       "version_major": 2,
       "version_minor": 0
      },
      "text/plain": [
       "  0%|          | 0/157 [00:00<?, ?it/s]"
      ]
     },
     "metadata": {},
     "output_type": "display_data"
    },
    {
     "name": "stdout",
     "output_type": "stream",
     "text": [
      "Epoch: 37\n"
     ]
    },
    {
     "data": {
      "application/vnd.jupyter.widget-view+json": {
       "model_id": "2e15193d752b4f9bb418d65181a2c56d",
       "version_major": 2,
       "version_minor": 0
      },
      "text/plain": [
       "  0%|          | 0/157 [00:00<?, ?it/s]"
      ]
     },
     "metadata": {},
     "output_type": "display_data"
    },
    {
     "data": {
      "application/vnd.jupyter.widget-view+json": {
       "model_id": "891292e40f3a4cc38bb4037031883104",
       "version_major": 2,
       "version_minor": 0
      },
      "text/plain": [
       "  0%|          | 0/24 [00:00<?, ?it/s]"
      ]
     },
     "metadata": {},
     "output_type": "display_data"
    },
    {
     "name": "stdout",
     "output_type": "stream",
     "text": [
      "eval metrics = \n",
      "{'eval_loss': 0.015760160284116864,\n",
      " 'image_to_text_R@1': 0.025610980917308335,\n",
      " 'image_to_text_R@10': 0.1342484097756947,\n",
      " 'image_to_text_R@5': 0.08218948778038165,\n",
      " 'image_to_text_mean_rank': 785.0487110813525,\n",
      " 'image_to_text_median_rank': 172.0,\n",
      " 'text_to_image_R@1': 0.03046534984934717,\n",
      " 'text_to_image_R@10': 0.14178105122196183,\n",
      " 'text_to_image_R@5': 0.09039169735520589,\n",
      " 'text_to_image_mean_rank': 782.8927017073987,\n",
      " 'text_to_image_median_rank': 171.0}\n",
      "save at ./roberta-resnet-dim256-saved/best_checkpoint.pt\n",
      "Epoch: 38\n"
     ]
    },
    {
     "data": {
      "application/vnd.jupyter.widget-view+json": {
       "model_id": "eead62576e1845c4be8ff3e90dfa47fd",
       "version_major": 2,
       "version_minor": 0
      },
      "text/plain": [
       "  0%|          | 0/157 [00:00<?, ?it/s]"
      ]
     },
     "metadata": {},
     "output_type": "display_data"
    },
    {
     "name": "stdout",
     "output_type": "stream",
     "text": [
      "Epoch: 39\n"
     ]
    },
    {
     "data": {
      "application/vnd.jupyter.widget-view+json": {
       "model_id": "aa7621a3b3224f12944d08d90667a143",
       "version_major": 2,
       "version_minor": 0
      },
      "text/plain": [
       "  0%|          | 0/157 [00:00<?, ?it/s]"
      ]
     },
     "metadata": {},
     "output_type": "display_data"
    },
    {
     "data": {
      "application/vnd.jupyter.widget-view+json": {
       "model_id": "186f371ba6384505bdb2b564ff8a0271",
       "version_major": 2,
       "version_minor": 0
      },
      "text/plain": [
       "  0%|          | 0/24 [00:00<?, ?it/s]"
      ]
     },
     "metadata": {},
     "output_type": "display_data"
    },
    {
     "name": "stdout",
     "output_type": "stream",
     "text": [
      "eval metrics = \n",
      "{'eval_loss': 0.015754130164471764,\n",
      " 'image_to_text_R@1': 0.026113157013726147,\n",
      " 'image_to_text_R@10': 0.13341144961499832,\n",
      " 'image_to_text_R@5': 0.08235687981252092,\n",
      " 'image_to_text_mean_rank': 784.3282557750251,\n",
      " 'image_to_text_median_rank': 170.0,\n",
      " 'text_to_image_R@1': 0.02946099765651155,\n",
      " 'text_to_image_R@10': 0.1452962838968865,\n",
      " 'text_to_image_R@5': 0.08972212922664881,\n",
      " 'text_to_image_mean_rank': 783.706729159692,\n",
      " 'text_to_image_median_rank': 170.0}\n",
      "Epoch: 40\n"
     ]
    },
    {
     "data": {
      "application/vnd.jupyter.widget-view+json": {
       "model_id": "7ea2caf0d0c7496294f0041ed2f1b300",
       "version_major": 2,
       "version_minor": 0
      },
      "text/plain": [
       "  0%|          | 0/157 [00:00<?, ?it/s]"
      ]
     },
     "metadata": {},
     "output_type": "display_data"
    },
    {
     "name": "stdout",
     "output_type": "stream",
     "text": [
      "Epoch: 41\n"
     ]
    },
    {
     "data": {
      "application/vnd.jupyter.widget-view+json": {
       "model_id": "103d87ebc95f491982d05a80f3d5ecbe",
       "version_major": 2,
       "version_minor": 0
      },
      "text/plain": [
       "  0%|          | 0/157 [00:00<?, ?it/s]"
      ]
     },
     "metadata": {},
     "output_type": "display_data"
    },
    {
     "data": {
      "application/vnd.jupyter.widget-view+json": {
       "model_id": "df26b90fb3124398a3e154b0cd9ccf01",
       "version_major": 2,
       "version_minor": 0
      },
      "text/plain": [
       "  0%|          | 0/24 [00:00<?, ?it/s]"
      ]
     },
     "metadata": {},
     "output_type": "display_data"
    },
    {
     "name": "stdout",
     "output_type": "stream",
     "text": [
      "eval metrics = \n",
      "{'eval_loss': 0.015725768986158073,\n",
      " 'image_to_text_R@1': 0.024941412788751255,\n",
      " 'image_to_text_R@10': 0.13608972212922665,\n",
      " 'image_to_text_R@5': 0.08285905590893873,\n",
      " 'image_to_text_mean_rank': 782.8729494476063,\n",
      " 'image_to_text_median_rank': 167.0,\n",
      " 'text_to_image_R@1': 0.03013056578506863,\n",
      " 'text_to_image_R@10': 0.14462671576832942,\n",
      " 'text_to_image_R@5': 0.09055908938734517,\n",
      " 'text_to_image_mean_rank': 783.3927017073987,\n",
      " 'text_to_image_median_rank': 170.0}\n",
      "save at ./roberta-resnet-dim256-saved/best_checkpoint.pt\n",
      "Epoch: 42\n"
     ]
    },
    {
     "data": {
      "application/vnd.jupyter.widget-view+json": {
       "model_id": "018ab8a0d3cb43d392242c7d6381942a",
       "version_major": 2,
       "version_minor": 0
      },
      "text/plain": [
       "  0%|          | 0/157 [00:00<?, ?it/s]"
      ]
     },
     "metadata": {},
     "output_type": "display_data"
    },
    {
     "name": "stdout",
     "output_type": "stream",
     "text": [
      "Epoch: 43\n"
     ]
    },
    {
     "data": {
      "application/vnd.jupyter.widget-view+json": {
       "model_id": "1e774834cef04e57b33eb4fb0a9b1e83",
       "version_major": 2,
       "version_minor": 0
      },
      "text/plain": [
       "  0%|          | 0/157 [00:00<?, ?it/s]"
      ]
     },
     "metadata": {},
     "output_type": "display_data"
    },
    {
     "data": {
      "application/vnd.jupyter.widget-view+json": {
       "model_id": "2bf49a824836406dad8aa374ea176d88",
       "version_major": 2,
       "version_minor": 0
      },
      "text/plain": [
       "  0%|          | 0/24 [00:00<?, ?it/s]"
      ]
     },
     "metadata": {},
     "output_type": "display_data"
    },
    {
     "name": "stdout",
     "output_type": "stream",
     "text": [
      "eval metrics = \n",
      "{'eval_loss': 0.015728124999441206,\n",
      " 'image_to_text_R@1': 0.025778372949447605,\n",
      " 'image_to_text_R@10': 0.1362571141613659,\n",
      " 'image_to_text_R@5': 0.08453297623033143,\n",
      " 'image_to_text_mean_rank': 783.9948108470037,\n",
      " 'image_to_text_median_rank': 168.0,\n",
      " 'text_to_image_R@1': 0.031971878138600605,\n",
      " 'text_to_image_R@10': 0.14496149983260798,\n",
      " 'text_to_image_R@5': 0.09340475393371275,\n",
      " 'text_to_image_mean_rank': 784.3972212922665,\n",
      " 'text_to_image_median_rank': 170.0}\n",
      "save at ./roberta-resnet-dim256-saved/best_checkpoint.pt\n",
      "Epoch: 44\n"
     ]
    },
    {
     "data": {
      "application/vnd.jupyter.widget-view+json": {
       "model_id": "bbb340201614453e875d0497fc609f05",
       "version_major": 2,
       "version_minor": 0
      },
      "text/plain": [
       "  0%|          | 0/157 [00:00<?, ?it/s]"
      ]
     },
     "metadata": {},
     "output_type": "display_data"
    },
    {
     "name": "stdout",
     "output_type": "stream",
     "text": [
      "Epoch: 45\n"
     ]
    },
    {
     "data": {
      "application/vnd.jupyter.widget-view+json": {
       "model_id": "671bd778c0d543e989a0cc076f322c48",
       "version_major": 2,
       "version_minor": 0
      },
      "text/plain": [
       "  0%|          | 0/157 [00:00<?, ?it/s]"
      ]
     },
     "metadata": {},
     "output_type": "display_data"
    },
    {
     "data": {
      "application/vnd.jupyter.widget-view+json": {
       "model_id": "14d1d59051fb42458f8cfa1dde251335",
       "version_major": 2,
       "version_minor": 0
      },
      "text/plain": [
       "  0%|          | 0/24 [00:00<?, ?it/s]"
      ]
     },
     "metadata": {},
     "output_type": "display_data"
    },
    {
     "name": "stdout",
     "output_type": "stream",
     "text": [
      "eval metrics = \n",
      "{'eval_loss': 0.0157375979082038,\n",
      " 'image_to_text_R@1': 0.025778372949447605,\n",
      " 'image_to_text_R@10': 0.13826581854703715,\n",
      " 'image_to_text_R@5': 0.08486776029460998,\n",
      " 'image_to_text_mean_rank': 785.8473384666889,\n",
      " 'image_to_text_median_rank': 167.0,\n",
      " 'text_to_image_R@1': 0.03163709407432206,\n",
      " 'text_to_image_R@10': 0.14563106796116504,\n",
      " 'text_to_image_R@5': 0.09340475393371275,\n",
      " 'text_to_image_mean_rank': 786.558921995313,\n",
      " 'text_to_image_median_rank': 170.0}\n",
      "save at ./roberta-resnet-dim256-saved/best_checkpoint.pt\n",
      "Epoch: 46\n"
     ]
    },
    {
     "data": {
      "application/vnd.jupyter.widget-view+json": {
       "model_id": "32e1a47e064a42398ae2fc360535b923",
       "version_major": 2,
       "version_minor": 0
      },
      "text/plain": [
       "  0%|          | 0/157 [00:00<?, ?it/s]"
      ]
     },
     "metadata": {},
     "output_type": "display_data"
    },
    {
     "name": "stdout",
     "output_type": "stream",
     "text": [
      "Epoch: 47\n"
     ]
    },
    {
     "data": {
      "application/vnd.jupyter.widget-view+json": {
       "model_id": "2329ba291a1f44ddae0d330f3a44f84d",
       "version_major": 2,
       "version_minor": 0
      },
      "text/plain": [
       "  0%|          | 0/157 [00:00<?, ?it/s]"
      ]
     },
     "metadata": {},
     "output_type": "display_data"
    },
    {
     "data": {
      "application/vnd.jupyter.widget-view+json": {
       "model_id": "2cfabbfdc025479cb8a804a0cbf4b16c",
       "version_major": 2,
       "version_minor": 0
      },
      "text/plain": [
       "  0%|          | 0/24 [00:00<?, ?it/s]"
      ]
     },
     "metadata": {},
     "output_type": "display_data"
    },
    {
     "name": "stdout",
     "output_type": "stream",
     "text": [
      "eval metrics = \n",
      "{'eval_loss': 0.0157456734450534,\n",
      " 'image_to_text_R@1': 0.026280549045865416,\n",
      " 'image_to_text_R@10': 0.13910277870773352,\n",
      " 'image_to_text_R@5': 0.0841981921660529,\n",
      " 'image_to_text_mean_rank': 786.4055908938734,\n",
      " 'image_to_text_median_rank': 166.0,\n",
      " 'text_to_image_R@1': 0.031134917977904252,\n",
      " 'text_to_image_R@10': 0.14563106796116504,\n",
      " 'text_to_image_R@5': 0.09323736190157349,\n",
      " 'text_to_image_mean_rank': 787.2830599263475,\n",
      " 'text_to_image_median_rank': 172.0}\n",
      "save at ./roberta-resnet-dim256-saved/best_checkpoint.pt\n",
      "Epoch: 48\n"
     ]
    },
    {
     "data": {
      "application/vnd.jupyter.widget-view+json": {
       "model_id": "6ba494d41c2e4c58a06330115d77c4d0",
       "version_major": 2,
       "version_minor": 0
      },
      "text/plain": [
       "  0%|          | 0/157 [00:00<?, ?it/s]"
      ]
     },
     "metadata": {},
     "output_type": "display_data"
    },
    {
     "name": "stdout",
     "output_type": "stream",
     "text": [
      "Epoch: 49\n"
     ]
    },
    {
     "data": {
      "application/vnd.jupyter.widget-view+json": {
       "model_id": "a5bf9467e77544a088003bce524fe172",
       "version_major": 2,
       "version_minor": 0
      },
      "text/plain": [
       "  0%|          | 0/157 [00:00<?, ?it/s]"
      ]
     },
     "metadata": {},
     "output_type": "display_data"
    },
    {
     "name": "stderr",
     "output_type": "stream",
     "text": [
      "wandb: Network error (ReadTimeout), entering retry loop.\n"
     ]
    }
   ],
   "source": [
    "if __name__ == '__main__':\n",
    "    seed_everything(seed=42)\n",
    "    if not os.path.exists(CFG.output_dir):\n",
    "        os.makedirs(CFG.output_dir)\n",
    "    with open(os.path.join(CFG.output_dir, 'config.txt'), 'w') as f:\n",
    "        for k,v in CFG.__dict__.items():\n",
    "            f.write(f'{k}: {v}\\n')\n",
    "\n",
    "    # 加载数据\n",
    "    train_dataset = TrainDataset(CFG.train_file)\n",
    "    valid_dataset = TrainDataset(CFG.valid_file)\n",
    "    train_dataloader = DataLoader(train_dataset, batch_size=CFG.batch_size,)\n",
    "    valid_dataloader = DataLoader(valid_dataset, batch_size=CFG.batch_size,)\n",
    "    # 加载模型\n",
    "    device = torch.device(CFG.device)\n",
    "    clipModel = SimpleCLIP(CFG.dim, CFG.text_ptm, CFG.img_ptm, device, freeze=False)\n",
    "    \n",
    "    if CFG.wandb:\n",
    "        wandb.init(project='SimpleCLIP', name=f'roberta-base-{CFG.img_ptm}-batch{CFG.batch_size}-dim{CFG.dim}')\n",
    "    \n",
    "    # 训练\n",
    "    train_eval(clipModel, train_dataloader, valid_dataloader, CFG.output_dir)"
   ]
  }
 ],
 "metadata": {
  "interpreter": {
   "hash": "93012f829438b8368e6c4d0b427df67bddf24b7d57848250a98cd2d96fd05494"
  },
  "kernelspec": {
   "display_name": "Python 3.8.13 ('VLP')",
   "language": "python",
   "name": "python3"
  },
  "language_info": {
   "codemirror_mode": {
    "name": "ipython",
    "version": 3
   },
   "file_extension": ".py",
   "mimetype": "text/x-python",
   "name": "python",
   "nbconvert_exporter": "python",
   "pygments_lexer": "ipython3",
   "version": "3.8.13"
  },
  "toc": {
   "base_numbering": 1,
   "nav_menu": {},
   "number_sections": true,
   "sideBar": true,
   "skip_h1_title": false,
   "title_cell": "Table of Contents",
   "title_sidebar": "Contents",
   "toc_cell": false,
   "toc_position": {
    "height": "calc(100% - 180px)",
    "left": "10px",
    "top": "150px",
    "width": "384px"
   },
   "toc_section_display": true,
   "toc_window_display": true
  }
 },
 "nbformat": 4,
 "nbformat_minor": 5
}
